{
 "cells": [
  {
   "cell_type": "markdown",
   "id": "789ae80b",
   "metadata": {
    "papermill": {
     "duration": 0.006108,
     "end_time": "2023-01-14T08:33:08.512042",
     "exception": false,
     "start_time": "2023-01-14T08:33:08.505934",
     "status": "completed"
    },
    "tags": []
   },
   "source": [
    "**This notebook is an exercise in the [Pandas](https://www.kaggle.com/learn/pandas) course.  You can reference the tutorial at [this link](https://www.kaggle.com/residentmario/grouping-and-sorting).**\n",
    "\n",
    "---\n"
   ]
  },
  {
   "cell_type": "markdown",
   "id": "b8a55f8b",
   "metadata": {
    "papermill": {
     "duration": 0.004683,
     "end_time": "2023-01-14T08:33:08.521897",
     "exception": false,
     "start_time": "2023-01-14T08:33:08.517214",
     "status": "completed"
    },
    "tags": []
   },
   "source": [
    "# Introduction\n",
    "\n",
    "In these exercises we'll apply groupwise analysis to our dataset.\n",
    "\n",
    "Run the code cell below to load the data before running the exercises."
   ]
  },
  {
   "cell_type": "code",
   "execution_count": 1,
   "id": "a3bc5a8a",
   "metadata": {
    "execution": {
     "iopub.execute_input": "2023-01-14T08:33:08.535398Z",
     "iopub.status.busy": "2023-01-14T08:33:08.534502Z",
     "iopub.status.idle": "2023-01-14T08:33:11.164683Z",
     "shell.execute_reply": "2023-01-14T08:33:11.163530Z"
    },
    "papermill": {
     "duration": 2.642686,
     "end_time": "2023-01-14T08:33:11.169746",
     "exception": false,
     "start_time": "2023-01-14T08:33:08.527060",
     "status": "completed"
    },
    "tags": []
   },
   "outputs": [
    {
     "name": "stdout",
     "output_type": "stream",
     "text": [
      "Setup complete.\n"
     ]
    }
   ],
   "source": [
    "import pandas as pd\n",
    "\n",
    "reviews = pd.read_csv(\"../input/wine-reviews/winemag-data-130k-v2.csv\", index_col=0)\n",
    "#pd.set_option(\"display.max_rows\", 5)\n",
    "\n",
    "from learntools.core import binder; binder.bind(globals())\n",
    "from learntools.pandas.grouping_and_sorting import *\n",
    "print(\"Setup complete.\")"
   ]
  },
  {
   "cell_type": "markdown",
   "id": "9a732178",
   "metadata": {
    "papermill": {
     "duration": 0.00814,
     "end_time": "2023-01-14T08:33:11.184864",
     "exception": false,
     "start_time": "2023-01-14T08:33:11.176724",
     "status": "completed"
    },
    "tags": []
   },
   "source": [
    "# Exercises"
   ]
  },
  {
   "cell_type": "markdown",
   "id": "0f0853b0",
   "metadata": {
    "papermill": {
     "duration": 0.007526,
     "end_time": "2023-01-14T08:33:11.199531",
     "exception": false,
     "start_time": "2023-01-14T08:33:11.192005",
     "status": "completed"
    },
    "tags": []
   },
   "source": [
    "## 1.\n",
    "Who are the most common wine reviewers in the dataset? Create a `Series` whose index is the `taster_twitter_handle` category from the dataset, and whose values count how many reviews each person wrote."
   ]
  },
  {
   "cell_type": "code",
   "execution_count": 2,
   "id": "73c6d4e3",
   "metadata": {
    "execution": {
     "iopub.execute_input": "2023-01-14T08:33:11.213442Z",
     "iopub.status.busy": "2023-01-14T08:33:11.212985Z",
     "iopub.status.idle": "2023-01-14T08:33:11.247469Z",
     "shell.execute_reply": "2023-01-14T08:33:11.245475Z"
    },
    "papermill": {
     "duration": 0.044498,
     "end_time": "2023-01-14T08:33:11.250394",
     "exception": false,
     "start_time": "2023-01-14T08:33:11.205896",
     "status": "completed"
    },
    "tags": []
   },
   "outputs": [
    {
     "data": {
      "application/javascript": [
       "parent.postMessage({\"jupyterEvent\": \"custom.exercise_interaction\", \"data\": {\"outcomeType\": 1, \"valueTowardsCompletion\": 0.16666666666666666, \"interactionType\": 1, \"questionType\": 1, \"questionId\": \"1_ReviewsWritten\", \"learnToolsVersion\": \"0.3.4\", \"failureMessage\": \"\", \"exceptionClass\": \"\", \"trace\": \"\"}}, \"*\")"
      ],
      "text/plain": [
       "<IPython.core.display.Javascript object>"
      ]
     },
     "metadata": {},
     "output_type": "display_data"
    },
    {
     "data": {
      "text/markdown": [
       "<span style=\"color:#33cc33\">Correct:</span> \n",
       "\n",
       "\n",
       "```python\n",
       "reviews_written = reviews.groupby('taster_twitter_handle').size()\n",
       "```\n",
       "or\n",
       "```python\n",
       "reviews_written = reviews.groupby('taster_twitter_handle').taster_twitter_handle.count()\n",
       "```\n"
      ],
      "text/plain": [
       "Correct: \n",
       "\n",
       "\n",
       "```python\n",
       "reviews_written = reviews.groupby('taster_twitter_handle').size()\n",
       "```\n",
       "or\n",
       "```python\n",
       "reviews_written = reviews.groupby('taster_twitter_handle').taster_twitter_handle.count()\n",
       "```"
      ]
     },
     "metadata": {},
     "output_type": "display_data"
    }
   ],
   "source": [
    "# Your code here\n",
    "reviews_written = reviews.groupby('taster_twitter_handle').taster_twitter_handle.count()\n",
    "\n",
    "\n",
    "# Check your answer\n",
    "q1.check()"
   ]
  },
  {
   "cell_type": "code",
   "execution_count": 3,
   "id": "f593682c",
   "metadata": {
    "execution": {
     "iopub.execute_input": "2023-01-14T08:33:11.263649Z",
     "iopub.status.busy": "2023-01-14T08:33:11.263253Z",
     "iopub.status.idle": "2023-01-14T08:33:11.268211Z",
     "shell.execute_reply": "2023-01-14T08:33:11.266535Z"
    },
    "papermill": {
     "duration": 0.01447,
     "end_time": "2023-01-14T08:33:11.270792",
     "exception": false,
     "start_time": "2023-01-14T08:33:11.256322",
     "status": "completed"
    },
    "tags": []
   },
   "outputs": [],
   "source": [
    "#q1.hint()\n",
    "#q1.solution()"
   ]
  },
  {
   "cell_type": "markdown",
   "id": "52381456",
   "metadata": {
    "papermill": {
     "duration": 0.006138,
     "end_time": "2023-01-14T08:33:11.282398",
     "exception": false,
     "start_time": "2023-01-14T08:33:11.276260",
     "status": "completed"
    },
    "tags": []
   },
   "source": [
    "## 2.\n",
    "What is the best wine I can buy for a given amount of money? Create a `Series` whose index is wine prices and whose values is the maximum number of points a wine costing that much was given in a review. Sort the values by price, ascending (so that `4.0` dollars is at the top and `3300.0` dollars is at the bottom)."
   ]
  },
  {
   "cell_type": "code",
   "execution_count": 4,
   "id": "cdcbae1f",
   "metadata": {
    "execution": {
     "iopub.execute_input": "2023-01-14T08:33:11.294614Z",
     "iopub.status.busy": "2023-01-14T08:33:11.293782Z",
     "iopub.status.idle": "2023-01-14T08:33:11.309848Z",
     "shell.execute_reply": "2023-01-14T08:33:11.309029Z"
    },
    "papermill": {
     "duration": 0.024741,
     "end_time": "2023-01-14T08:33:11.312204",
     "exception": false,
     "start_time": "2023-01-14T08:33:11.287463",
     "status": "completed"
    },
    "tags": []
   },
   "outputs": [
    {
     "data": {
      "application/javascript": [
       "parent.postMessage({\"jupyterEvent\": \"custom.exercise_interaction\", \"data\": {\"outcomeType\": 1, \"valueTowardsCompletion\": 0.16666666666666666, \"interactionType\": 1, \"questionType\": 1, \"questionId\": \"2_BestRatingPerPrice\", \"learnToolsVersion\": \"0.3.4\", \"failureMessage\": \"\", \"exceptionClass\": \"\", \"trace\": \"\"}}, \"*\")"
      ],
      "text/plain": [
       "<IPython.core.display.Javascript object>"
      ]
     },
     "metadata": {},
     "output_type": "display_data"
    },
    {
     "data": {
      "text/markdown": [
       "<span style=\"color:#33cc33\">Correct</span>"
      ],
      "text/plain": [
       "Correct"
      ]
     },
     "metadata": {},
     "output_type": "display_data"
    },
    {
     "data": {
      "text/plain": [
       "price\n",
       "4.0       86\n",
       "5.0       87\n",
       "6.0       88\n",
       "7.0       91\n",
       "8.0       91\n",
       "          ..\n",
       "1900.0    98\n",
       "2000.0    97\n",
       "2013.0    91\n",
       "2500.0    96\n",
       "3300.0    88\n",
       "Name: points, Length: 390, dtype: int64"
      ]
     },
     "execution_count": 4,
     "metadata": {},
     "output_type": "execute_result"
    }
   ],
   "source": [
    "best_rating_per_price =  reviews.groupby('price')['points'].max().sort_index()\n",
    "\n",
    "\n",
    "# Check your answer\n",
    "q2.check()\n",
    "best_rating_per_price"
   ]
  },
  {
   "cell_type": "code",
   "execution_count": 5,
   "id": "8ead9175",
   "metadata": {
    "execution": {
     "iopub.execute_input": "2023-01-14T08:33:11.326535Z",
     "iopub.status.busy": "2023-01-14T08:33:11.325908Z",
     "iopub.status.idle": "2023-01-14T08:33:11.329426Z",
     "shell.execute_reply": "2023-01-14T08:33:11.328691Z"
    },
    "papermill": {
     "duration": 0.013746,
     "end_time": "2023-01-14T08:33:11.332011",
     "exception": false,
     "start_time": "2023-01-14T08:33:11.318265",
     "status": "completed"
    },
    "tags": []
   },
   "outputs": [],
   "source": [
    "#q2.hint()\n",
    "#q2.solution()"
   ]
  },
  {
   "cell_type": "markdown",
   "id": "fb4c9f7e",
   "metadata": {
    "papermill": {
     "duration": 0.005415,
     "end_time": "2023-01-14T08:33:11.343408",
     "exception": false,
     "start_time": "2023-01-14T08:33:11.337993",
     "status": "completed"
    },
    "tags": []
   },
   "source": [
    "## 3.\n",
    "What are the minimum and maximum prices for each `variety` of wine? Create a `DataFrame` whose index is the `variety` category from the dataset and whose values are the `min` and `max` values thereof."
   ]
  },
  {
   "cell_type": "code",
   "execution_count": 6,
   "id": "269ac468",
   "metadata": {
    "execution": {
     "iopub.execute_input": "2023-01-14T08:33:11.356692Z",
     "iopub.status.busy": "2023-01-14T08:33:11.356220Z",
     "iopub.status.idle": "2023-01-14T08:33:11.383284Z",
     "shell.execute_reply": "2023-01-14T08:33:11.382126Z"
    },
    "papermill": {
     "duration": 0.036597,
     "end_time": "2023-01-14T08:33:11.385584",
     "exception": false,
     "start_time": "2023-01-14T08:33:11.348987",
     "status": "completed"
    },
    "tags": []
   },
   "outputs": [
    {
     "data": {
      "application/javascript": [
       "parent.postMessage({\"jupyterEvent\": \"custom.exercise_interaction\", \"data\": {\"outcomeType\": 1, \"valueTowardsCompletion\": 0.16666666666666666, \"interactionType\": 1, \"questionType\": 1, \"questionId\": \"3_PriceExtremes\", \"learnToolsVersion\": \"0.3.4\", \"failureMessage\": \"\", \"exceptionClass\": \"\", \"trace\": \"\"}}, \"*\")"
      ],
      "text/plain": [
       "<IPython.core.display.Javascript object>"
      ]
     },
     "metadata": {},
     "output_type": "display_data"
    },
    {
     "data": {
      "text/markdown": [
       "<span style=\"color:#33cc33\">Correct</span>"
      ],
      "text/plain": [
       "Correct"
      ]
     },
     "metadata": {},
     "output_type": "display_data"
    }
   ],
   "source": [
    "price_extremes = reviews.groupby('variety').price.agg([min,max])\n",
    "\n",
    "# Check your answer\n",
    "q3.check()"
   ]
  },
  {
   "cell_type": "code",
   "execution_count": 7,
   "id": "986970fe",
   "metadata": {
    "execution": {
     "iopub.execute_input": "2023-01-14T08:33:11.400013Z",
     "iopub.status.busy": "2023-01-14T08:33:11.399560Z",
     "iopub.status.idle": "2023-01-14T08:33:11.404646Z",
     "shell.execute_reply": "2023-01-14T08:33:11.402983Z"
    },
    "papermill": {
     "duration": 0.015157,
     "end_time": "2023-01-14T08:33:11.407166",
     "exception": false,
     "start_time": "2023-01-14T08:33:11.392009",
     "status": "completed"
    },
    "tags": []
   },
   "outputs": [],
   "source": [
    "#q3.hint()\n",
    "#q3.solution()"
   ]
  },
  {
   "cell_type": "markdown",
   "id": "9e022aac",
   "metadata": {
    "papermill": {
     "duration": 0.005762,
     "end_time": "2023-01-14T08:33:11.419234",
     "exception": false,
     "start_time": "2023-01-14T08:33:11.413472",
     "status": "completed"
    },
    "tags": []
   },
   "source": [
    "## 4.\n",
    "What are the most expensive wine varieties? Create a variable `sorted_varieties` containing a copy of the dataframe from the previous question where varieties are sorted in descending order based on minimum price, then on maximum price (to break ties)."
   ]
  },
  {
   "cell_type": "code",
   "execution_count": 8,
   "id": "74344322",
   "metadata": {
    "execution": {
     "iopub.execute_input": "2023-01-14T08:33:11.433516Z",
     "iopub.status.busy": "2023-01-14T08:33:11.432844Z",
     "iopub.status.idle": "2023-01-14T08:33:11.462145Z",
     "shell.execute_reply": "2023-01-14T08:33:11.460884Z"
    },
    "papermill": {
     "duration": 0.0399,
     "end_time": "2023-01-14T08:33:11.465136",
     "exception": false,
     "start_time": "2023-01-14T08:33:11.425236",
     "status": "completed"
    },
    "tags": []
   },
   "outputs": [
    {
     "data": {
      "application/javascript": [
       "parent.postMessage({\"jupyterEvent\": \"custom.exercise_interaction\", \"data\": {\"outcomeType\": 1, \"valueTowardsCompletion\": 0.16666666666666666, \"interactionType\": 1, \"questionType\": 1, \"questionId\": \"4_SortedVarieties\", \"learnToolsVersion\": \"0.3.4\", \"failureMessage\": \"\", \"exceptionClass\": \"\", \"trace\": \"\"}}, \"*\")"
      ],
      "text/plain": [
       "<IPython.core.display.Javascript object>"
      ]
     },
     "metadata": {},
     "output_type": "display_data"
    },
    {
     "data": {
      "text/markdown": [
       "<span style=\"color:#33cc33\">Correct</span>"
      ],
      "text/plain": [
       "Correct"
      ]
     },
     "metadata": {},
     "output_type": "display_data"
    }
   ],
   "source": [
    "sorted_varieties = reviews.groupby('variety').price.agg([min,max]).sort_values(by=['min', 'max'], ascending=False)\n",
    "\n",
    "# Check your answer\n",
    "q4.check()"
   ]
  },
  {
   "cell_type": "code",
   "execution_count": 9,
   "id": "751f078a",
   "metadata": {
    "execution": {
     "iopub.execute_input": "2023-01-14T08:33:11.479446Z",
     "iopub.status.busy": "2023-01-14T08:33:11.479103Z",
     "iopub.status.idle": "2023-01-14T08:33:11.483996Z",
     "shell.execute_reply": "2023-01-14T08:33:11.482365Z"
    },
    "papermill": {
     "duration": 0.01537,
     "end_time": "2023-01-14T08:33:11.486793",
     "exception": false,
     "start_time": "2023-01-14T08:33:11.471423",
     "status": "completed"
    },
    "tags": []
   },
   "outputs": [],
   "source": [
    "#q4.hint()\n",
    "#q4.solution()"
   ]
  },
  {
   "cell_type": "markdown",
   "id": "f0455eaa",
   "metadata": {
    "papermill": {
     "duration": 0.005948,
     "end_time": "2023-01-14T08:33:11.498919",
     "exception": false,
     "start_time": "2023-01-14T08:33:11.492971",
     "status": "completed"
    },
    "tags": []
   },
   "source": [
    "## 5.\n",
    "Create a `Series` whose index is reviewers and whose values is the average review score given out by that reviewer. Hint: you will need the `taster_name` and `points` columns."
   ]
  },
  {
   "cell_type": "code",
   "execution_count": 10,
   "id": "d6518db0",
   "metadata": {
    "execution": {
     "iopub.execute_input": "2023-01-14T08:33:11.513536Z",
     "iopub.status.busy": "2023-01-14T08:33:11.513163Z",
     "iopub.status.idle": "2023-01-14T08:33:11.534914Z",
     "shell.execute_reply": "2023-01-14T08:33:11.533338Z"
    },
    "papermill": {
     "duration": 0.03293,
     "end_time": "2023-01-14T08:33:11.537907",
     "exception": false,
     "start_time": "2023-01-14T08:33:11.504977",
     "status": "completed"
    },
    "tags": []
   },
   "outputs": [
    {
     "data": {
      "application/javascript": [
       "parent.postMessage({\"jupyterEvent\": \"custom.exercise_interaction\", \"data\": {\"outcomeType\": 1, \"valueTowardsCompletion\": 0.16666666666666666, \"interactionType\": 1, \"questionType\": 1, \"questionId\": \"5_ReviewerMeanRatings\", \"learnToolsVersion\": \"0.3.4\", \"failureMessage\": \"\", \"exceptionClass\": \"\", \"trace\": \"\"}}, \"*\")"
      ],
      "text/plain": [
       "<IPython.core.display.Javascript object>"
      ]
     },
     "metadata": {},
     "output_type": "display_data"
    },
    {
     "data": {
      "text/markdown": [
       "<span style=\"color:#33cc33\">Correct</span>"
      ],
      "text/plain": [
       "Correct"
      ]
     },
     "metadata": {},
     "output_type": "display_data"
    }
   ],
   "source": [
    "reviewer_mean_ratings = reviews.groupby('taster_name').points.mean()\n",
    "\n",
    "# Check your answer\n",
    "q5.check()"
   ]
  },
  {
   "cell_type": "code",
   "execution_count": 11,
   "id": "4427224b",
   "metadata": {
    "execution": {
     "iopub.execute_input": "2023-01-14T08:33:11.553239Z",
     "iopub.status.busy": "2023-01-14T08:33:11.552815Z",
     "iopub.status.idle": "2023-01-14T08:33:11.558370Z",
     "shell.execute_reply": "2023-01-14T08:33:11.556591Z"
    },
    "papermill": {
     "duration": 0.016336,
     "end_time": "2023-01-14T08:33:11.561217",
     "exception": false,
     "start_time": "2023-01-14T08:33:11.544881",
     "status": "completed"
    },
    "tags": []
   },
   "outputs": [],
   "source": [
    "#q5.hint()\n",
    "#q5.solution()"
   ]
  },
  {
   "cell_type": "markdown",
   "id": "c492cfaf",
   "metadata": {
    "papermill": {
     "duration": 0.006464,
     "end_time": "2023-01-14T08:33:11.574729",
     "exception": false,
     "start_time": "2023-01-14T08:33:11.568265",
     "status": "completed"
    },
    "tags": []
   },
   "source": [
    "Are there significant differences in the average scores assigned by the various reviewers? Run the cell below to use the `describe()` method to see a summary of the range of values."
   ]
  },
  {
   "cell_type": "code",
   "execution_count": 12,
   "id": "15f23137",
   "metadata": {
    "execution": {
     "iopub.execute_input": "2023-01-14T08:33:11.589963Z",
     "iopub.status.busy": "2023-01-14T08:33:11.589538Z",
     "iopub.status.idle": "2023-01-14T08:33:11.603162Z",
     "shell.execute_reply": "2023-01-14T08:33:11.600958Z"
    },
    "papermill": {
     "duration": 0.024551,
     "end_time": "2023-01-14T08:33:11.605919",
     "exception": false,
     "start_time": "2023-01-14T08:33:11.581368",
     "status": "completed"
    },
    "tags": []
   },
   "outputs": [
    {
     "data": {
      "text/plain": [
       "count    19.000000\n",
       "mean     88.233026\n",
       "std       1.243610\n",
       "min      85.855422\n",
       "25%      87.323501\n",
       "50%      88.536235\n",
       "75%      88.975256\n",
       "max      90.562551\n",
       "Name: points, dtype: float64"
      ]
     },
     "execution_count": 12,
     "metadata": {},
     "output_type": "execute_result"
    }
   ],
   "source": [
    "reviewer_mean_ratings.describe()"
   ]
  },
  {
   "cell_type": "markdown",
   "id": "ce59bc6a",
   "metadata": {
    "papermill": {
     "duration": 0.006192,
     "end_time": "2023-01-14T08:33:11.619014",
     "exception": false,
     "start_time": "2023-01-14T08:33:11.612822",
     "status": "completed"
    },
    "tags": []
   },
   "source": [
    "## 6.\n",
    "What combination of countries and varieties are most common? Create a `Series` whose index is a `MultiIndex`of `{country, variety}` pairs. For example, a pinot noir produced in the US should map to `{\"US\", \"Pinot Noir\"}`. Sort the values in the `Series` in descending order based on wine count."
   ]
  },
  {
   "cell_type": "code",
   "execution_count": 13,
   "id": "c5c68f03",
   "metadata": {
    "execution": {
     "iopub.execute_input": "2023-01-14T08:33:11.635424Z",
     "iopub.status.busy": "2023-01-14T08:33:11.634817Z",
     "iopub.status.idle": "2023-01-14T08:33:11.670531Z",
     "shell.execute_reply": "2023-01-14T08:33:11.668682Z"
    },
    "papermill": {
     "duration": 0.047591,
     "end_time": "2023-01-14T08:33:11.673412",
     "exception": false,
     "start_time": "2023-01-14T08:33:11.625821",
     "status": "completed"
    },
    "tags": []
   },
   "outputs": [
    {
     "data": {
      "application/javascript": [
       "parent.postMessage({\"jupyterEvent\": \"custom.exercise_interaction\", \"data\": {\"outcomeType\": 1, \"valueTowardsCompletion\": 0.16666666666666666, \"interactionType\": 1, \"questionType\": 1, \"questionId\": \"6_GroupbyCountryVariety\", \"learnToolsVersion\": \"0.3.4\", \"failureMessage\": \"\", \"exceptionClass\": \"\", \"trace\": \"\"}}, \"*\")"
      ],
      "text/plain": [
       "<IPython.core.display.Javascript object>"
      ]
     },
     "metadata": {},
     "output_type": "display_data"
    },
    {
     "data": {
      "text/markdown": [
       "<span style=\"color:#33cc33\">Correct</span>"
      ],
      "text/plain": [
       "Correct"
      ]
     },
     "metadata": {},
     "output_type": "display_data"
    }
   ],
   "source": [
    "country_variety_counts = reviews.groupby(['country','variety']).size().sort_values(ascending=False)\n",
    "\n",
    "# Check your answer\n",
    "q6.check()"
   ]
  },
  {
   "cell_type": "code",
   "execution_count": 14,
   "id": "1499b7e8",
   "metadata": {
    "execution": {
     "iopub.execute_input": "2023-01-14T08:33:11.689327Z",
     "iopub.status.busy": "2023-01-14T08:33:11.688924Z",
     "iopub.status.idle": "2023-01-14T08:33:11.695004Z",
     "shell.execute_reply": "2023-01-14T08:33:11.693331Z"
    },
    "papermill": {
     "duration": 0.017401,
     "end_time": "2023-01-14T08:33:11.697962",
     "exception": false,
     "start_time": "2023-01-14T08:33:11.680561",
     "status": "completed"
    },
    "tags": []
   },
   "outputs": [],
   "source": [
    "#q6.hint()\n",
    "#q6.solution()"
   ]
  },
  {
   "cell_type": "markdown",
   "id": "1e0ea891",
   "metadata": {
    "papermill": {
     "duration": 0.007058,
     "end_time": "2023-01-14T08:33:11.712254",
     "exception": false,
     "start_time": "2023-01-14T08:33:11.705196",
     "status": "completed"
    },
    "tags": []
   },
   "source": [
    "# Keep going\n",
    "\n",
    "Move on to the [**data types and missing data**](https://www.kaggle.com/residentmario/data-types-and-missing-values)."
   ]
  },
  {
   "cell_type": "markdown",
   "id": "1b7b14c0",
   "metadata": {
    "papermill": {
     "duration": 0.006866,
     "end_time": "2023-01-14T08:33:11.726325",
     "exception": false,
     "start_time": "2023-01-14T08:33:11.719459",
     "status": "completed"
    },
    "tags": []
   },
   "source": [
    "---\n",
    "\n",
    "\n",
    "\n",
    "\n",
    "*Have questions or comments? Visit the [course discussion forum](https://www.kaggle.com/learn/pandas/discussion) to chat with other learners.*"
   ]
  }
 ],
 "metadata": {
  "kernelspec": {
   "display_name": "Python 3",
   "language": "python",
   "name": "python3"
  },
  "language_info": {
   "codemirror_mode": {
    "name": "ipython",
    "version": 3
   },
   "file_extension": ".py",
   "mimetype": "text/x-python",
   "name": "python",
   "nbconvert_exporter": "python",
   "pygments_lexer": "ipython3",
   "version": "3.7.12"
  },
  "papermill": {
   "default_parameters": {},
   "duration": 12.632926,
   "end_time": "2023-01-14T08:33:12.557965",
   "environment_variables": {},
   "exception": null,
   "input_path": "__notebook__.ipynb",
   "output_path": "__notebook__.ipynb",
   "parameters": {},
   "start_time": "2023-01-14T08:32:59.925039",
   "version": "2.3.4"
  }
 },
 "nbformat": 4,
 "nbformat_minor": 5
}
